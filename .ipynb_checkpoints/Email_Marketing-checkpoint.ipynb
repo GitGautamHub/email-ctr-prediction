{
  "cells": [
    {
      "cell_type": "markdown",
      "metadata": {},
      "source": [
        "# \ud83d\udce7 Email Marketing Campaign Optimization using Machine Learning\n",
        "---\n",
        "### \ud83c\udfaf Objective:\n",
        "- Analyze email campaign performance (open and click rates)\n",
        "- Predict which users are likely to click the link in future campaigns\n",
        "- Provide actionable insights for optimizing future email campaigns"
      ]
    },
    {
      "cell_type": "code",
      "execution_count": null,
      "metadata": {},
      "outputs": [],
      "source": [
        "import pandas as pd\n",
        "import numpy as np\n",
        "import matplotlib.pyplot as plt\n",
        "import seaborn as sns\n",
        "from sklearn.model_selection import train_test_split\n",
        "from sklearn.ensemble import RandomForestClassifier\n",
        "from sklearn.metrics import classification_report, accuracy_score"
      ]
    },
    {
      "cell_type": "markdown",
      "metadata": {},
      "source": [
        "## \ud83d\udce5 Load Datasets"
      ]
    },
    {
      "cell_type": "code",
      "execution_count": null,
      "metadata": {},
      "outputs": [],
      "source": [
        "email_df = pd.read_csv('email_table.csv')\n",
        "opened_df = pd.read_csv('email_opened_table.csv')\n",
        "clicked_df = pd.read_csv('link_clicked_table.csv')"
      ]
    },
    {
      "cell_type": "markdown",
      "metadata": {},
      "source": [
        "## \ud83d\udd17 Merge Data and Add Flags"
      ]
    },
    {
      "cell_type": "code",
      "execution_count": null,
      "metadata": {},
      "outputs": [],
      "source": [
        "email_df['opened'] = email_df['email_id'].isin(opened_df['email_id']).astype(int)\n",
        "email_df['clicked'] = email_df['email_id'].isin(clicked_df['email_id']).astype(int)"
      ]
    },
    {
      "cell_type": "markdown",
      "metadata": {},
      "source": [
        "## \ud83d\udcca Performance Metrics"
      ]
    },
    {
      "cell_type": "code",
      "execution_count": null,
      "metadata": {},
      "outputs": [],
      "source": [
        "open_rate = email_df['opened'].mean()\n",
        "click_rate = email_df['clicked'].mean()\n",
        "print(f\"Open Rate: {open_rate:.2%}\")\n",
        "print(f\"Click Rate: {click_rate:.2%}\")"
      ]
    },
    {
      "cell_type": "markdown",
      "metadata": {},
      "source": [
        "## \ud83d\udd0d Exploratory Data Analysis"
      ]
    },
    {
      "cell_type": "code",
      "execution_count": null,
      "metadata": {},
      "outputs": [],
      "source": [
        "email_df['purchase_bucket'] = pd.cut(email_df['user_past_purchases'],\n",
        "                                     bins=[-1, 0, 1, 3, 5, 10, 100],\n",
        "                                     labels=['0', '1', '2-3', '4-5', '6-10', '10+'])\n",
        "email_df.groupby('purchase_bucket')['clicked'].mean().plot(kind='bar', title='CTR by Past Purchases')\n",
        "plt.ylabel('Click Rate')\n",
        "plt.show()"
      ]
    },
    {
      "cell_type": "markdown",
      "metadata": {},
      "source": [
        "## \ud83e\uddea Train Machine Learning Model"
      ]
    },
    {
      "cell_type": "code",
      "execution_count": null,
      "metadata": {},
      "outputs": [],
      "source": [
        "data = pd.get_dummies(email_df, \n",
        "                      columns=['email_text', 'email_version', 'weekday', 'user_country'],\n",
        "                      drop_first=True)\n",
        "X = data.drop(columns=['email_id', 'clicked', 'opened'])\n",
        "y = data['clicked']\n",
        "X_train, X_test, y_train, y_test = train_test_split(X, y, test_size=0.2, stratify=y, random_state=42)\n",
        "model = RandomForestClassifier(n_estimators=100, random_state=42)\n",
        "model.fit(X_train, y_train)\n",
        "y_pred = model.predict(X_test)"
      ]
    },
    {
      "cell_type": "markdown",
      "metadata": {},
      "source": [
        "## \u2705 Model Evaluation"
      ]
    },
    {
      "cell_type": "code",
      "execution_count": null,
      "metadata": {},
      "outputs": [],
      "source": [
        "print(classification_report(y_test, y_pred))\n",
        "print(f\"Accuracy Score: {accuracy_score(y_test, y_pred):.2%}\")"
      ]
    },
    {
      "cell_type": "markdown",
      "metadata": {},
      "source": [
        "## \ud83d\udd0d Feature Importance"
      ]
    },
    {
      "cell_type": "code",
      "execution_count": null,
      "metadata": {},
      "outputs": [],
      "source": [
        "importances = model.feature_importances_\n",
        "features = X.columns\n",
        "indices = np.argsort(importances)[::-1]\n",
        "plt.figure(figsize=(12, 6))\n",
        "plt.title(\"Top 15 Feature Importances\")\n",
        "plt.bar(range(15), importances[indices][:15])\n",
        "plt.xticks(range(15), [features[i] for i in indices[:15]], rotation=90)\n",
        "plt.tight_layout()\n",
        "plt.show()"
      ]
    },
    {
      "cell_type": "markdown",
      "metadata": {},
      "source": [
        "## \ud83d\udcc8 Simulate Targeted Campaign"
      ]
    },
    {
      "cell_type": "code",
      "execution_count": null,
      "metadata": {},
      "outputs": [],
      "source": [
        "X_test_copy = X_test.copy()\n",
        "X_test_copy['pred_prob'] = model.predict_proba(X_test)[:, 1]\n",
        "X_test_copy['actual'] = y_test.values\n",
        "top_30_percent = X_test_copy.sort_values(by='pred_prob', ascending=False).head(int(0.3 * len(X_test_copy)))\n",
        "simulated_ctr = top_30_percent['actual'].mean()\n",
        "print(f\"Simulated CTR (top 30% users): {simulated_ctr:.2%}\")"
      ]
    }
  ],
  "metadata": {
    "kernelspec": {
      "display_name": "Python 3",
      "language": "python",
      "name": "python3"
    },
    "language_info": {
      "name": "python",
      "version": "3.9"
    }
  },
  "nbformat": 4,
  "nbformat_minor": 4
}